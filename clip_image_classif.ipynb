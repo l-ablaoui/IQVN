{
 "cells": [
  {
   "cell_type": "code",
   "execution_count": 16,
   "metadata": {},
   "outputs": [],
   "source": [
    "import numpy as np\n",
    "import torch\n",
    "from transformers import CLIPImageProcessor, CLIPTokenizerFast, CLIPModel\n",
    "import cv2\n",
    "import matplotlib.pyplot as plt\n",
    "\n",
    "device =  torch.device('cuda' if torch.cuda.is_available() else 'cpu')"
   ]
  },
  {
   "cell_type": "code",
   "execution_count": 17,
   "metadata": {},
   "outputs": [],
   "source": [
    "def normalize_similarities(scores):\n",
    "    #clipped_scores = np.clip(scores, 0, np.inf)\n",
    "    return (scores - scores.min()) / (scores.max() - scores.min())\n",
    "\n",
    "#similarity computation\n",
    "def get_embeddings(vid_path):\n",
    "    #load video\n",
    "    vid = cv2.VideoCapture(vid_path)\n",
    "\n",
    "    #load clip model\n",
    "    checkpoint = \"openai/clip-vit-base-patch32\"\n",
    "    image_processor = CLIPImageProcessor.from_pretrained(checkpoint)\n",
    "    clip = CLIPModel.from_pretrained(checkpoint)\n",
    "    clip.to(device)\n",
    "\n",
    "    embeddings = []\n",
    "    while True:\n",
    "        okay, frame = vid.read()\n",
    "        if not okay:\n",
    "            break\n",
    "        \n",
    "        with torch.no_grad():\n",
    "            img_input = image_processor(images=frame, return_tensors=\"pt\", padding=True).to(device)\n",
    "            embeddings.append(clip.get_image_features(**img_input).detach().cpu())\n",
    "    \n",
    "    return embeddings"
   ]
  },
  {
   "cell_type": "code",
   "execution_count": 18,
   "metadata": {},
   "outputs": [],
   "source": [
    "prompts = [\"plane\", \"person\", \"windsock\", \"cloud\", \"fluff\", \"candy\", \"mosquito\", \"book\"]\n",
    "video_features = get_embeddings(\"/home/marina/Vidéos/dsgg/cut5.mp4\")"
   ]
  },
  {
   "cell_type": "code",
   "execution_count": 19,
   "metadata": {},
   "outputs": [
    {
     "name": "stderr",
     "output_type": "stream",
     "text": [
      "/tmp/ipykernel_8892/2881030178.py:2: FutureWarning: The input object of type 'Tensor' is an array-like implementing one of the corresponding protocols (`__array__`, `__array_interface__` or `__array_struct__`); but not a sequence (or 0-D). In the future, this object will be coerced as if it was first converted using `np.array(obj)`. To retain the old behaviour, you have to either modify the type 'Tensor', or assign to an empty array created with `np.empty(correct_shape, dtype=object)`.\n",
      "  np.save(fp, np.array(video_features) )\n"
     ]
    },
    {
     "ename": "ValueError",
     "evalue": "setting an array element with a sequence. The requested array has an inhomogeneous shape after 1 dimensions. The detected shape was (5400,) + inhomogeneous part.",
     "output_type": "error",
     "traceback": [
      "\u001b[0;31m---------------------------------------------------------------------------\u001b[0m",
      "\u001b[0;31mValueError\u001b[0m                                Traceback (most recent call last)",
      "Cell \u001b[0;32mIn[19], line 2\u001b[0m\n\u001b[1;32m      1\u001b[0m \u001b[38;5;28;01mwith\u001b[39;00m \u001b[38;5;28mopen\u001b[39m(\u001b[38;5;124m\"\u001b[39m\u001b[38;5;124mcut5.npy\u001b[39m\u001b[38;5;124m\"\u001b[39m, \u001b[38;5;124m'\u001b[39m\u001b[38;5;124mwb\u001b[39m\u001b[38;5;124m'\u001b[39m) \u001b[38;5;28;01mas\u001b[39;00m fp:\n\u001b[0;32m----> 2\u001b[0m     np\u001b[38;5;241m.\u001b[39msave(fp, \u001b[43mnp\u001b[49m\u001b[38;5;241;43m.\u001b[39;49m\u001b[43marray\u001b[49m\u001b[43m(\u001b[49m\u001b[43mvideo_features\u001b[49m\u001b[43m)\u001b[49m )\n",
      "\u001b[0;31mValueError\u001b[0m: setting an array element with a sequence. The requested array has an inhomogeneous shape after 1 dimensions. The detected shape was (5400,) + inhomogeneous part."
     ]
    }
   ],
   "source": [
    "with open(\"cut5.npy\", 'wb') as fp:\n",
    "    np.save(fp, np.array(video_features) )"
   ]
  },
  {
   "cell_type": "code",
   "execution_count": 27,
   "metadata": {},
   "outputs": [
    {
     "name": "stdout",
     "output_type": "stream",
     "text": [
      "<class 'PIL.PngImagePlugin.PngImageFile'>\n",
      "tensor([[ 1.6981e-02,  2.6568e-02,  1.8879e-02,  1.6064e-01, -2.0413e-01,\n",
      "         -7.2366e-02,  6.9733e-02, -1.1292e+00, -2.4950e-01,  3.8986e-01,\n",
      "         -3.4463e-01,  3.8627e-02,  1.0020e-01, -1.4741e-01,  2.7803e-01,\n",
      "         -1.0167e-01,  3.8731e-01, -2.2197e-02, -1.2673e-01, -1.8352e-01,\n",
      "          3.3995e-01,  3.0566e-01,  1.0492e-01,  1.8506e-02, -3.0351e-01,\n",
      "         -4.8927e-02, -2.7513e-01,  3.4293e-01,  1.9037e-01,  2.8061e-01,\n",
      "          1.9474e-01, -1.1052e-01, -3.7759e-03,  2.1314e-01, -3.1525e-01,\n",
      "          1.7890e-01, -2.1739e-02, -1.2211e-01, -2.0284e-01, -4.1985e-02,\n",
      "          2.8713e-01, -1.3955e-02,  5.2045e-03,  2.0755e-01,  4.5336e-01,\n",
      "          1.5053e-01,  2.1676e-01,  2.0452e-01, -5.7958e-02, -1.1162e-02,\n",
      "          2.4295e-02, -2.8860e-01,  1.9227e-02, -7.2961e-02,  2.0393e-02,\n",
      "         -5.1770e-02, -4.7329e-02,  1.2304e-01, -4.0251e-01,  2.8067e-01,\n",
      "          2.5017e-01, -7.8040e-02,  1.1016e-01, -2.9134e-01,  1.1552e-01,\n",
      "         -1.0103e-01, -1.8781e-01,  7.1961e-03, -3.6040e-01, -2.5937e-01,\n",
      "         -1.8393e-01, -1.3524e-01,  8.5641e-02,  5.6276e-01,  2.6427e-01,\n",
      "         -2.8433e-01, -3.0195e-02,  2.4454e-01, -1.8358e-01, -1.3371e-01,\n",
      "         -3.2882e-01, -3.9757e-01, -7.0295e-02,  2.7925e-01, -2.5312e-01,\n",
      "          2.6459e-02,  3.5216e-02, -9.9334e-02, -2.3880e-01,  8.7592e-02,\n",
      "         -1.3901e-01,  3.5003e-01, -1.5440e+00,  5.2831e-01, -1.4895e-01,\n",
      "          2.8621e-01,  2.0776e-01,  6.9577e-01,  2.7833e-01, -2.9789e-01,\n",
      "          2.3482e-01, -2.8975e-02,  5.5905e-01, -9.6377e-02, -4.6975e-01,\n",
      "          1.3942e-01, -9.5831e-03, -1.3020e-01, -9.6927e-03,  9.9267e-02,\n",
      "          1.0443e-01, -9.1654e-02,  3.0732e-01, -7.5854e-02,  7.0287e-02,\n",
      "          1.0810e-01, -1.2172e-01,  1.3543e-01, -6.8787e-02, -9.7572e-02,\n",
      "          6.2178e-02, -3.2650e-01,  1.8055e-02,  8.5625e-03,  2.5346e-01,\n",
      "         -1.6954e-01, -4.1666e-02, -5.3911e-02,  5.5945e-03,  2.1772e-01,\n",
      "         -1.6369e-01,  1.5882e-01, -1.2891e-01,  6.4974e+00, -1.0947e-01,\n",
      "          7.6446e-02,  4.4517e-02, -4.9710e-02,  9.1335e-02, -1.6909e-01,\n",
      "          8.6223e-02,  2.5429e-01, -3.4602e-01,  9.2275e-02, -2.6854e-01,\n",
      "          3.7819e-01, -8.8694e-02, -1.3079e-02, -3.4950e-02, -2.8444e-01,\n",
      "         -4.5232e-02,  2.7851e-02, -1.7329e-01, -1.9475e-02, -2.4164e-01,\n",
      "         -7.5948e-02, -9.1031e-02, -1.1985e-01, -1.8350e-01,  8.2668e-02,\n",
      "         -3.4683e-02, -7.6117e-02, -1.2369e-01,  6.3266e-02, -4.0298e-02,\n",
      "          2.9704e-01,  8.2701e-02,  1.6110e-01,  1.8550e-01,  1.3022e-01,\n",
      "          8.8194e-02, -2.4633e-02,  3.2922e-01,  1.9754e-01, -3.8429e-01,\n",
      "         -8.4555e-02, -3.9829e-01,  1.6441e-01, -9.7642e-02,  1.3687e-02,\n",
      "          4.1661e-01,  1.6963e-01, -2.8265e-01, -7.1905e-02,  3.1127e-01,\n",
      "         -3.8003e-01,  3.6632e-02, -3.3612e-01, -1.2849e-01,  1.8935e-01,\n",
      "         -6.6579e-02, -2.8475e-02, -1.0191e-01,  2.4209e-01, -3.4795e-02,\n",
      "          1.3983e-01, -4.9254e-01,  4.0498e-01, -3.8667e-02, -2.6406e-01,\n",
      "         -1.3747e-01,  2.6435e-01,  1.6652e-01, -3.9749e-01, -8.5595e-02,\n",
      "          7.8847e-02, -2.0766e-01,  3.3680e-02, -5.1308e-01,  1.1101e-01,\n",
      "          5.5043e-01,  3.6291e-01, -2.9924e-02,  2.6994e-01,  6.7223e-02,\n",
      "         -2.3578e-01,  7.7810e-02, -1.3983e-01, -1.8103e-01, -2.7360e-01,\n",
      "         -1.3834e-01, -5.6944e-01, -2.3269e-01,  4.3971e-02,  2.5435e-01,\n",
      "         -6.7379e-02,  3.4649e-01,  5.0374e-02, -1.5453e-02, -2.3480e-01,\n",
      "         -3.1328e-02,  4.0431e-01,  5.1424e-02, -1.2868e-01, -2.0482e-01,\n",
      "         -2.2141e-02, -3.0886e-03,  9.5354e-04, -3.5652e-02, -1.8861e-01,\n",
      "         -1.6332e-01,  3.5102e-02, -2.6606e-01, -2.0715e-01, -2.6032e-01,\n",
      "         -3.3839e-01, -2.8214e-02, -1.9695e-01,  2.1918e-01,  8.8996e-02,\n",
      "         -5.6843e-01,  1.4151e-01,  3.3327e-01,  3.8832e-01, -2.2579e-01,\n",
      "          2.8746e-01, -4.6832e-02,  2.1711e-02,  1.0792e-01,  1.1603e-01,\n",
      "          1.4396e-01,  4.4901e-02, -1.5234e-01,  1.3141e-01, -1.4638e-02,\n",
      "          2.8628e-03,  2.2864e-01, -4.8781e-01,  4.6484e-02,  2.6733e-01,\n",
      "         -1.3892e-01, -5.8335e-02,  6.6372e-02,  9.4847e-02,  1.4289e-02,\n",
      "         -1.8627e-01,  1.8213e-01, -2.2881e-01,  1.9244e-01, -1.0632e-01,\n",
      "          2.4968e-01,  1.5066e-01,  1.8332e-01, -5.0719e-02, -4.1941e-01,\n",
      "          2.4381e-01,  3.7836e-01,  1.9076e-01,  3.1049e-01, -9.6360e-02,\n",
      "          6.4191e-02, -8.2924e-02,  1.2352e-01,  5.1132e-02, -3.2856e-01,\n",
      "         -1.1558e-01, -4.2397e-01,  3.7222e-02,  1.5688e-03,  3.0198e-01,\n",
      "         -1.7971e-02, -2.6456e-01, -2.7035e-01,  1.5024e-01, -1.5470e-01,\n",
      "         -5.7245e-03, -9.5898e-02, -3.4099e-01, -5.4817e-02,  2.0303e-01,\n",
      "          6.2099e-02, -9.3772e-02,  6.4946e+00, -1.2184e-02, -2.3358e-01,\n",
      "          4.6774e-02,  2.0843e-01, -4.9143e-02,  1.0634e-01,  8.3913e-02,\n",
      "          4.2848e-01,  5.1289e-01,  6.3628e-02, -1.0807e-01,  2.3757e-02,\n",
      "          4.3076e-01,  1.2601e-01, -2.8329e-01,  7.5106e-02, -2.0504e+00,\n",
      "         -1.7656e-01,  4.1818e-01, -4.6804e-02,  1.0665e-01, -6.1629e-02,\n",
      "          2.7436e-01, -8.5916e-02,  1.0158e-01, -2.4026e-01, -3.3713e-01,\n",
      "         -3.5330e-01, -6.2091e-02, -2.0716e-01, -2.0686e-01,  2.6636e-01,\n",
      "          2.0731e-02, -1.2209e-01, -1.0790e-02,  1.5315e-01,  1.8663e-01,\n",
      "          2.2891e-02, -4.5772e-01, -1.4740e-02,  6.9148e-02, -9.3976e-02,\n",
      "          1.6713e-01,  2.2785e-01,  2.5283e-01,  1.8641e-01,  5.2641e-03,\n",
      "         -2.1775e-01, -6.2885e-02, -2.5188e-01, -9.2500e-02, -1.8013e-02,\n",
      "         -1.6424e-01, -8.2895e-02, -7.2495e-02, -2.2502e-01, -2.7893e-01,\n",
      "         -4.0238e-03, -1.1627e-01, -1.1345e-01,  5.2043e-01, -2.8322e-01,\n",
      "          1.0588e-01, -3.0824e-01,  7.3895e-02, -3.4720e-01,  7.3066e-02,\n",
      "         -2.1235e-01,  1.3490e-01, -1.0812e-02, -4.5036e-01, -1.9477e-01,\n",
      "         -1.3793e-01, -3.1687e-02,  2.6776e-01,  8.3694e-02,  1.0098e-02,\n",
      "         -2.6745e-01,  2.1219e-01,  4.4351e-03, -1.7970e-01, -2.1277e-01,\n",
      "          1.6222e-01,  1.4342e-01,  7.4323e-02, -4.2049e-01,  6.0667e-01,\n",
      "          2.7979e-01,  4.1857e-02, -6.6846e-02, -2.6632e-01, -7.8978e-02,\n",
      "          1.3013e-01,  1.0726e-01,  7.6713e-04, -1.3843e-01, -6.6786e-02,\n",
      "          5.7484e-01,  2.0136e-01, -1.2324e-01, -8.0619e-02, -1.2986e-01,\n",
      "         -1.2597e-01, -1.9393e-01, -1.6103e-01, -2.6139e-01,  4.8091e-02,\n",
      "          1.4661e-01, -1.9819e-01, -1.2063e-01, -4.8199e-01, -1.4545e-01,\n",
      "          1.0189e-01, -7.4218e-02, -2.8135e-02,  2.5636e-01,  2.5576e-01,\n",
      "         -2.9969e-01, -1.4975e-01, -2.2604e-01, -1.6879e-01,  9.4567e-02,\n",
      "         -7.7247e-02,  7.0673e-02,  4.6526e-02, -2.3985e-01, -2.0531e-01,\n",
      "         -4.9918e-02, -1.7837e-01,  2.7599e-01, -2.4469e-01,  1.0705e-01,\n",
      "          2.9505e-01, -6.5123e-02,  1.7411e-03, -7.8953e-02,  1.1376e-01,\n",
      "          1.6032e-02,  2.6068e-01, -8.2517e-02,  1.3015e-01, -2.1331e-01,\n",
      "          6.3897e-02, -5.4211e-02, -1.6638e-01,  1.4090e-01, -8.0619e-02,\n",
      "         -4.8521e-02,  8.6899e-02, -4.6612e-02,  5.9419e-01,  1.4161e-01,\n",
      "         -9.8591e-02,  3.6878e-01, -3.2725e-02,  3.4030e-01, -2.3182e-01,\n",
      "          8.1131e-02, -1.1473e-01, -9.9668e-02, -4.5656e-01, -7.7732e-02,\n",
      "          2.5481e-01, -5.2745e-02,  3.9457e-01,  7.6843e-03, -3.2583e-01,\n",
      "          2.2616e-01, -5.1184e-01,  5.7521e-02, -7.7797e-02,  2.5138e-01,\n",
      "         -2.9774e-01,  5.6958e-02,  2.3973e-01, -3.1195e-02,  7.9682e-02,\n",
      "         -1.0466e-01,  2.8080e-01,  1.5222e-01,  6.2947e-01,  1.7966e-01,\n",
      "         -8.7033e-02,  3.9713e-01,  5.2445e-02, -1.2014e-01,  1.9887e-01,\n",
      "         -3.4831e-01, -3.9743e-02,  1.8546e-01,  2.8189e-01,  6.1221e-03,\n",
      "         -3.0770e-01, -4.7312e-01,  9.5780e-02, -7.7615e-02, -5.2277e-02,\n",
      "          1.2043e-01, -1.8051e-02]], grad_fn=<MmBackward0>)\n",
      "torch.Size([1, 512])\n",
      "tensor([0.2705], grad_fn=<SumBackward1>) tensor([0.2563], grad_fn=<SumBackward1>) tensor([0.9336], grad_fn=<SumBackward1>)\n"
     ]
    }
   ],
   "source": [
    "from PIL import Image\n",
    "from transformers import CLIPProcessor\n",
    "\n",
    "checkpoint = \"openai/clip-vit-base-patch32\"\n",
    "processor = CLIPImageProcessor.from_pretrained(checkpoint)\n",
    "tokenizer = CLIPTokenizerFast.from_pretrained(checkpoint)\n",
    "clip = CLIPModel.from_pretrained(checkpoint)\n",
    "both_processor = CLIPProcessor.from_pretrained(checkpoint)\n",
    "\n",
    "input_text = tokenizer(text=\"dog\", return_tensors=\"pt\", padding=True)\n",
    "dog_features = clip.get_text_features(**input_text)\n",
    "\n",
    "input_text = both_processor(text=\"plane\", images=None, return_tensors=\"pt\", padding=True)\n",
    "plane_features = clip.get_text_features(**input_text)\n",
    "\n",
    "input_text = both_processor(text=\"airplane\", return_tensors=\"pt\", images = None, padding=True)\n",
    "airplane_features = clip.get_text_features(**input_text)\n",
    "\n",
    "img = Image.open(\"airplane.png\")\n",
    "print(type(img))\n",
    "image_prompt = both_processor(images = img, text=None, return_tensors=\"pt\", padding=True)#['pixel_values']\n",
    "image_features = clip.get_image_features(**image_prompt)\n",
    "\n",
    "input_text = both_processor(text=\"windsock\", images=None, return_tensors=\"pt\", padding=True)\n",
    "windsock_features = clip.get_text_features(**input_text)\n",
    "\n",
    "text_text = torch.nn.functional.cosine_similarity(airplane_features, plane_features)\n",
    "plane_img = torch.nn.functional.cosine_similarity(image_features, plane_features)\n",
    "airplane_img = torch.nn.functional.cosine_similarity(image_features, airplane_features)\n",
    "\n",
    "print(plane_features)\n",
    "print(plane_features.shape)\n",
    "print (plane_img, airplane_img, text_text)\n",
    "#for i in range(len(video_features)):\n",
    " #   dog_sim = torch.nn.functional.cosine_similarity(video_features[i], dog_features)\n",
    "  #  plane_sim = torch.nn.functional.cosine_similarity(video_features[i], plane_features)\n",
    "  #  airplane_sim = torch.nn.functional.cosine_similarity(video_features[i], airplane_features)\n",
    "  #  image_sim = torch.nn.functional.cosine_similarity(video_features[i], image_features)\n",
    "  #  windsock_sim = torch.nn.functional.cosine_similarity(video_features[i], windsock_features)\n",
    "  #  print(dog_sim, plane_sim, airplane_sim, image_sim, windsock_sim)"
   ]
  },
  {
   "cell_type": "code",
   "execution_count": 29,
   "metadata": {},
   "outputs": [
    {
     "name": "stdout",
     "output_type": "stream",
     "text": [
      "[[0.2705398]]\n"
     ]
    }
   ],
   "source": [
    "from numpy.linalg import norm\n",
    "\n",
    "cos_sim = np.dot(image_features.detach().numpy(), plane_features.detach().numpy().T) / (\n",
    "    norm(image_features.detach().numpy(), axis=1) * norm(plane_features.detach().numpy(), axis=1)\n",
    ")\n",
    "\n",
    "print(cos_sim)"
   ]
  }
 ],
 "metadata": {
  "kernelspec": {
   "display_name": "Python 3",
   "language": "python",
   "name": "python3"
  },
  "language_info": {
   "codemirror_mode": {
    "name": "ipython",
    "version": 3
   },
   "file_extension": ".py",
   "mimetype": "text/x-python",
   "name": "python",
   "nbconvert_exporter": "python",
   "pygments_lexer": "ipython3",
   "version": "3.10.12"
  }
 },
 "nbformat": 4,
 "nbformat_minor": 2
}
